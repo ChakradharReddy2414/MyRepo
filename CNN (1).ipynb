{
  "cells": [
    {
      "cell_type": "code",
      "execution_count": null,
      "metadata": {
        "id": "wmPHmVMIcBX0"
      },
      "outputs": [],
      "source": [
        "import tensorflow as tf\n",
        "from tensorflow.keras.layers import Conv1D, LSTM, Dense, Dropout\n",
        "from tensorflow.keras.layers import MaxPooling1D, Flatten\n",
        "from tensorflow.keras.metrics import Accuracy\n",
        "from tensorflow.keras.metrics import RootMeanSquaredError\n",
        "from keras.models import Sequential\n",
        "from keras.layers import Dense"
      ]
    },
    {
      "cell_type": "code",
      "execution_count": null,
      "metadata": {
        "colab": {
          "base_uri": "https://localhost:8080/",
          "height": 800
        },
        "id": "0bc2VKGLtnja",
        "outputId": "d7bc8f5a-83ab-4e5b-ac20-4d71dac8a3e1"
      },
      "outputs": [
        {
          "name": "stdout",
          "output_type": "stream",
          "text": [
            "Epoch 1/30\n",
            "157/157 [==============================] - 1s 2ms/step - loss: 139687.7188 - accuracy: 0.2021\n",
            "Epoch 2/30\n",
            "157/157 [==============================] - 0s 3ms/step - loss: 138736.7031 - accuracy: 0.0179\n",
            "Epoch 3/30\n",
            "157/157 [==============================] - 0s 2ms/step - loss: 138677.8438 - accuracy: 0.0115\n",
            "Epoch 4/30\n",
            "157/157 [==============================] - 0s 2ms/step - loss: 138663.5781 - accuracy: 0.0064\n",
            "Epoch 5/30\n",
            "157/157 [==============================] - 0s 2ms/step - loss: 138670.5156 - accuracy: 0.0058\n",
            "Epoch 6/30\n",
            "157/157 [==============================] - 0s 2ms/step - loss: 138654.7656 - accuracy: 8.4400e-04\n",
            "Epoch 7/30\n",
            "157/157 [==============================] - 0s 2ms/step - loss: 138656.0938 - accuracy: 0.0014\n",
            "Epoch 8/30\n",
            "157/157 [==============================] - 0s 2ms/step - loss: 138654.2344 - accuracy: 6.4600e-04\n",
            "Epoch 9/30\n",
            "157/157 [==============================] - 0s 2ms/step - loss: 138653.4531 - accuracy: 0.0012\n",
            "Epoch 10/30\n",
            "157/157 [==============================] - 0s 2ms/step - loss: 138650.2188 - accuracy: 6.4600e-04\n",
            "Epoch 11/30\n",
            "157/157 [==============================] - 0s 2ms/step - loss: 138649.6406 - accuracy: 6.4600e-04\n",
            "Epoch 12/30\n",
            "157/157 [==============================] - 0s 2ms/step - loss: 138648.4375 - accuracy: 6.4600e-04\n",
            "Epoch 13/30\n",
            "157/157 [==============================] - 0s 2ms/step - loss: 138649.6406 - accuracy: 6.4600e-04\n",
            "Epoch 14/30\n",
            "157/157 [==============================] - 0s 2ms/step - loss: 138648.4688 - accuracy: 6.4600e-04\n",
            "Epoch 15/30\n",
            "157/157 [==============================] - 0s 2ms/step - loss: 138650.6562 - accuracy: 6.4600e-04\n",
            "Epoch 16/30\n",
            "157/157 [==============================] - 0s 2ms/step - loss: 138649.1719 - accuracy: 6.4600e-04\n",
            "Epoch 17/30\n",
            "157/157 [==============================] - 0s 2ms/step - loss: 138649.1719 - accuracy: 6.4600e-04\n",
            "Epoch 18/30\n",
            "157/157 [==============================] - 0s 2ms/step - loss: 138648.4219 - accuracy: 6.4600e-04\n",
            "Epoch 19/30\n",
            "157/157 [==============================] - 0s 2ms/step - loss: 138648.2188 - accuracy: 6.4600e-04\n",
            "Epoch 20/30\n",
            "157/157 [==============================] - 0s 2ms/step - loss: 138649.4219 - accuracy: 6.4600e-04\n",
            "Epoch 21/30\n",
            "157/157 [==============================] - 0s 2ms/step - loss: 138649.6719 - accuracy: 6.4600e-04\n",
            "Epoch 22/30\n",
            "157/157 [==============================] - 0s 3ms/step - loss: 138648.2500 - accuracy: 6.4600e-04\n",
            "Epoch 23/30\n",
            "157/157 [==============================] - 0s 3ms/step - loss: 138650.6250 - accuracy: 6.4600e-04\n",
            "Epoch 24/30\n",
            "157/157 [==============================] - 0s 2ms/step - loss: 138649.5156 - accuracy: 6.4600e-04\n",
            "Epoch 25/30\n",
            "157/157 [==============================] - 0s 2ms/step - loss: 138648.3125 - accuracy: 6.4600e-04\n",
            "Epoch 26/30\n",
            "157/157 [==============================] - 0s 2ms/step - loss: 138649.4844 - accuracy: 6.4600e-04\n",
            "Epoch 27/30\n",
            "157/157 [==============================] - 0s 2ms/step - loss: 138648.5156 - accuracy: 6.4600e-04\n",
            "Epoch 28/30\n",
            "157/157 [==============================] - 0s 2ms/step - loss: 138650.4375 - accuracy: 6.4600e-04\n",
            "Epoch 29/30\n",
            "157/157 [==============================] - 0s 2ms/step - loss: 138650.1719 - accuracy: 6.4600e-04\n",
            "Epoch 30/30\n",
            "157/157 [==============================] - 0s 2ms/step - loss: 138648.7188 - accuracy: 6.4600e-04\n"
          ]
        },
        {
          "data": {
            "text/plain": [
              "<keras.callbacks.History at 0x7fe3772d88e0>"
            ]
          },
          "execution_count": 92,
          "metadata": {},
          "output_type": "execute_result"
        }
      ],
      "source": [
        "model = Sequential()\n",
        "model.add(Conv1D(filters=256, kernel_size=2, activation='relu', input_shape=(10,10)))\n",
        "model.add(Conv1D(filters=128, kernel_size=2, activation='relu'))\n",
        "model.add(MaxPooling1D(pool_size=2))\n",
        "model.add(Flatten())\n",
        "model.add(Dense(100, activation='relu'))\n",
        "model.add(Dense(1))\n",
        "model.compile(loss='mse', optimizer='adam',metrics='accuracy')\n",
        "model.fit(x_train,y_train_pad,epochs=30 )"
      ]
    },
    {
      "cell_type": "code",
      "execution_count": null,
      "metadata": {
        "id": "hJWfCLOZtnja",
        "outputId": "8da957e3-f697-4ed9-8922-a08fbf12a088"
      },
      "outputs": [
        {
          "name": "stdout",
          "output_type": "stream",
          "text": [
            "Model: \"sequential_8\"\n",
            "_________________________________________________________________\n",
            " Layer (type)                Output Shape              Param #   \n",
            "=================================================================\n",
            " conv1d_24 (Conv1D)          (None, 9, 256)            5376      \n",
            "                                                                 \n",
            " conv1d_25 (Conv1D)          (None, 8, 128)            65664     \n",
            "                                                                 \n",
            " max_pooling1d_16 (MaxPoolin  (None, 4, 128)           0         \n",
            " g1D)                                                            \n",
            "                                                                 \n",
            " flatten (Flatten)           (None, 512)               0         \n",
            "                                                                 \n",
            " dense_14 (Dense)            (None, 100)               51300     \n",
            "                                                                 \n",
            " dense_15 (Dense)            (None, 1)                 101       \n",
            "                                                                 \n",
            "=================================================================\n",
            "Total params: 122,441\n",
            "Trainable params: 122,441\n",
            "Non-trainable params: 0\n",
            "_________________________________________________________________\n",
            "None\n"
          ]
        }
      ],
      "source": [
        "print(model.summary())"
      ]
    },
    {
      "cell_type": "code",
      "execution_count": null,
      "metadata": {
        "id": "5BQdBeXGtnjb",
        "outputId": "ab1f0743-f025-4fd6-c8fe-e7d43545a0a8",
        "scrolled": true
      },
      "outputs": [
        {
          "name": "stdout",
          "output_type": "stream",
          "text": [
            "Epoch 1/25\n",
            "20/20 [==============================] - 0s 18ms/step - loss: 138647.7969 - accuracy: 6.4600e-04 - val_loss: 621232.3750 - val_accuracy: 5.5000e-04\n",
            "Epoch 2/25\n",
            "20/20 [==============================] - 0s 14ms/step - loss: 138647.6250 - accuracy: 6.4600e-04 - val_loss: 621234.8750 - val_accuracy: 5.5000e-04\n",
            "Epoch 3/25\n",
            "20/20 [==============================] - 0s 15ms/step - loss: 138647.4844 - accuracy: 6.4600e-04 - val_loss: 621225.1875 - val_accuracy: 5.5000e-04\n",
            "Epoch 4/25\n",
            "20/20 [==============================] - 0s 15ms/step - loss: 138647.8906 - accuracy: 6.4600e-04 - val_loss: 621223.1250 - val_accuracy: 5.5000e-04\n",
            "Epoch 5/25\n",
            "20/20 [==============================] - 0s 14ms/step - loss: 138647.7344 - accuracy: 6.4600e-04 - val_loss: 621240.7500 - val_accuracy: 5.5000e-04\n",
            "Epoch 6/25\n",
            "20/20 [==============================] - 0s 14ms/step - loss: 138647.5469 - accuracy: 6.4600e-04 - val_loss: 621231.4375 - val_accuracy: 5.5000e-04\n",
            "Epoch 7/25\n",
            "20/20 [==============================] - 0s 14ms/step - loss: 138647.5156 - accuracy: 6.4600e-04 - val_loss: 621225.5000 - val_accuracy: 5.5000e-04\n",
            "Epoch 8/25\n",
            "20/20 [==============================] - 0s 14ms/step - loss: 138647.6875 - accuracy: 6.4600e-04 - val_loss: 621234.4375 - val_accuracy: 5.5000e-04\n",
            "Epoch 9/25\n",
            "20/20 [==============================] - 0s 14ms/step - loss: 138647.5469 - accuracy: 6.4600e-04 - val_loss: 621231.4375 - val_accuracy: 5.5000e-04\n",
            "Epoch 10/25\n",
            "20/20 [==============================] - 0s 14ms/step - loss: 138647.5000 - accuracy: 6.4600e-04 - val_loss: 621229.6875 - val_accuracy: 5.5000e-04\n",
            "Epoch 11/25\n",
            "20/20 [==============================] - 0s 14ms/step - loss: 138647.5156 - accuracy: 6.4600e-04 - val_loss: 621222.8125 - val_accuracy: 5.5000e-04\n",
            "Epoch 12/25\n",
            "20/20 [==============================] - 0s 14ms/step - loss: 138647.7969 - accuracy: 6.4600e-04 - val_loss: 621234.6875 - val_accuracy: 5.5000e-04\n",
            "Epoch 13/25\n",
            "20/20 [==============================] - 0s 14ms/step - loss: 138647.6094 - accuracy: 6.4600e-04 - val_loss: 621226.0000 - val_accuracy: 5.5000e-04\n",
            "Epoch 14/25\n",
            "20/20 [==============================] - 0s 14ms/step - loss: 138647.8750 - accuracy: 6.4600e-04 - val_loss: 621225.1250 - val_accuracy: 5.5000e-04\n",
            "Epoch 15/25\n",
            "20/20 [==============================] - 0s 14ms/step - loss: 138647.6094 - accuracy: 6.4600e-04 - val_loss: 621238.9375 - val_accuracy: 5.5000e-04\n",
            "Epoch 16/25\n",
            "20/20 [==============================] - 0s 14ms/step - loss: 138647.6094 - accuracy: 6.4600e-04 - val_loss: 621232.0000 - val_accuracy: 5.5000e-04\n",
            "Epoch 17/25\n",
            "20/20 [==============================] - 0s 14ms/step - loss: 138648.0156 - accuracy: 6.4600e-04 - val_loss: 621224.4375 - val_accuracy: 5.5000e-04\n",
            "Epoch 18/25\n",
            "20/20 [==============================] - 0s 14ms/step - loss: 138648.1719 - accuracy: 6.4600e-04 - val_loss: 621242.2500 - val_accuracy: 5.5000e-04\n",
            "Epoch 19/25\n",
            "20/20 [==============================] - 0s 14ms/step - loss: 138647.6562 - accuracy: 6.4600e-04 - val_loss: 621223.6250 - val_accuracy: 5.5000e-04\n",
            "Epoch 20/25\n",
            "20/20 [==============================] - 0s 14ms/step - loss: 138647.5469 - accuracy: 6.4600e-04 - val_loss: 621227.3125 - val_accuracy: 5.5000e-04\n",
            "Epoch 21/25\n",
            "20/20 [==============================] - 0s 14ms/step - loss: 138647.5469 - accuracy: 6.4600e-04 - val_loss: 621233.4375 - val_accuracy: 5.5000e-04\n",
            "Epoch 22/25\n",
            "20/20 [==============================] - 0s 14ms/step - loss: 138647.6094 - accuracy: 6.4600e-04 - val_loss: 621228.8125 - val_accuracy: 5.5000e-04\n",
            "Epoch 23/25\n",
            "20/20 [==============================] - 0s 14ms/step - loss: 138647.5312 - accuracy: 6.4600e-04 - val_loss: 621235.3750 - val_accuracy: 5.5000e-04\n",
            "Epoch 24/25\n",
            "20/20 [==============================] - 0s 14ms/step - loss: 138647.9062 - accuracy: 6.4600e-04 - val_loss: 621233.8750 - val_accuracy: 5.5000e-04\n",
            "Epoch 25/25\n",
            "20/20 [==============================] - 0s 14ms/step - loss: 138647.7812 - accuracy: 6.4600e-04 - val_loss: 621234.3125 - val_accuracy: 5.5000e-04\n"
          ]
        }
      ],
      "source": [
        "history= model.fit(x=x_train,y=y_train_pad,validation_data=(x_test,y_test_pad),epochs = 25,batch_size = 256)"
      ]
    },
    {
      "cell_type": "code",
      "execution_count": null,
      "metadata": {
        "id": "FOHyNUEOtnjb",
        "outputId": "884436ea-01f2-456a-a58b-eddcedd24db6"
      },
      "outputs": [
        {
          "data": {
            "image/png": "[encoded data removed]",
            "text/plain": [
              "<Figure size 640x480 with 1 Axes>"
            ]
          },
          "metadata": {},
          "output_type": "display_data"
        },
        {
          "data": {
            "image/png": "[encoded data removed]",
            "text/plain": [
              "<Figure size 640x480 with 1 Axes>"
            ]
          },
          "metadata": {},
          "output_type": "display_data"
        }
      ],
      "source": [
        "# summarize history for accuracy\n",
        "plt.plot(history.history['accuracy'])\n",
        "plt.plot(history.history['val_accuracy'])\n",
        "plt.title('model accuracy')\n",
        "plt.ylabel('accuracy')\n",
        "plt.xlabel('epoch')\n",
        "plt.legend(['train', 'test'], loc='upper left')\n",
        "plt.show()\n",
        "# summarize history for loss\n",
        "plt.plot(history.history['loss'])\n",
        "plt.plot(history.history['val_loss'])\n",
        "plt.title('model loss')\n",
        "plt.ylabel('loss')\n",
        "plt.xlabel('epoch')\n",
        "plt.legend(['train', 'test'], loc='upper left')\n",
        "plt.show()"
      ]
    },
    {
      "cell_type": "markdown",
      "metadata": {
        "id": "pNmFDFVitnjb"
      },
      "source": [
        "### Use this for testing"
      ]
    },
    {
      "cell_type": "code",
      "execution_count": null,
      "metadata": {
        "id": "hD6C78Ektnjb",
        "outputId": "0461a387-87af-448a-beda-60b3f3c926ff"
      },
      "outputs": [
        {
          "name": "stdout",
          "output_type": "stream",
          "text": [
            "112/112 [==============================] - 0s 1ms/step - loss: 621234.4375 - accuracy: 5.5000e-04\n",
            "model test_loss: 621234.4375\n",
            "model test_mse: 0.0005499996477738023\n"
          ]
        }
      ],
      "source": [
        "model_test_loss , model_test_mse = model.evaluate(x_test,y_test_pad , batch_size=45 , verbose=1)\n",
        "print(f'model test_loss: {model_test_loss}')\n",
        "print(f'model test_mse: {model_test_mse}')"
      ]
    },
    {
      "cell_type": "code",
      "execution_count": null,
      "metadata": {
        "id": "z1nL0fvPSCcB",
        "outputId": "2c2ac5ca-4697-4469-f3f9-a71ade30ac56"
      },
      "outputs": [
        {
          "name": "stdout",
          "output_type": "stream",
          "text": [
            "157/157 [==============================] - 0s 1ms/step\n"
          ]
        }
      ],
      "source": [
        "y_pred = model.predict(x_test)"
      ]
    },
    {
      "cell_type": "code",
      "execution_count": null,
      "metadata": {
        "id": "58kIrQQASCcB",
        "outputId": "7b46ab48-eda2-4e8e-dbd2-caa2584f24ab"
      },
      "outputs": [
        {
          "data": {
            "text/plain": [
              "array([[14.249073],\n",
              "       [14.249073],\n",
              "       [14.248715],\n",
              "       ...,\n",
              "       [14.249073],\n",
              "       [14.249073],\n",
              "       [14.248714]], dtype=float32)"
            ]
          },
          "execution_count": 84,
          "metadata": {},
          "output_type": "execute_result"
        }
      ],
      "source": [
        "y_pred"
      ]
    }
  ],
  "metadata": {
    "colab": {
      "collapsed_sections": [],
      "provenance": []
    },
    "kernelspec": {
      "display_name": "Python 3 (ipykernel)",
      "language": "python",
      "name": "python3"
    },
    "language_info": {
      "codemirror_mode": {
        "name": "ipython",
        "version": 3
      },
      "file_extension": ".py",
      "mimetype": "text/x-python",
      "name": "python",
      "nbconvert_exporter": "python",
      "pygments_lexer": "ipython3",
      "version": "3.10.6"
    }
  },
  "nbformat": 4,
  "nbformat_minor": 0
}